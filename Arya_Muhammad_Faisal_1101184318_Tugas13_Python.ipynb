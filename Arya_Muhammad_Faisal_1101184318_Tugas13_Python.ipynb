{
  "nbformat": 4,
  "nbformat_minor": 0,
  "metadata": {
    "colab": {
      "name": "Arya Muhammad Faisal_1101184318_Tugas13_Python.ipynb",
      "provenance": [],
      "authorship_tag": "ABX9TyPTu1xrXnJRiKAX9+9Ncs8t",
      "include_colab_link": true
    },
    "kernelspec": {
      "name": "python3",
      "display_name": "Python 3"
    }
  },
  "cells": [
    {
      "cell_type": "markdown",
      "metadata": {
        "id": "view-in-github",
        "colab_type": "text"
      },
      "source": [
        "<a href=\"https://colab.research.google.com/github/aryamuhammadf/tugas_python/blob/main/Arya_Muhammad_Faisal_1101184318_Tugas13_Python.ipynb\" target=\"_parent\"><img src=\"https://colab.research.google.com/assets/colab-badge.svg\" alt=\"Open In Colab\"/></a>"
      ]
    },
    {
      "cell_type": "code",
      "metadata": {
        "id": "-FdXg3ZJxUj_"
      },
      "source": [
        "import numpy as np\r\n",
        "import matplotlib.pyplot as plt"
      ],
      "execution_count": 1,
      "outputs": []
    },
    {
      "cell_type": "code",
      "metadata": {
        "id": "WEAvMC1nGQLT"
      },
      "source": [
        "def cos(frek,tipe,ht,hr,d):\r\n",
        "  #frek = frekuensi (MHz)\r\n",
        "  #tipe = urban, suburban, open\r\n",
        "  #ht = tinggi tower (meter)\r\n",
        "  #hr = tinggi user (meter)\r\n",
        "  #d = jarak (meter)\r\n",
        "    if frek in range(150,1501):\r\n",
        "        Ca=69.55\r\n",
        "        Cb=26.16\r\n",
        "    elif frek in range(1501,2001):\r\n",
        "        Ca=46.3\r\n",
        "        Cb=33.9\r\n",
        "    \r\n",
        "    if tipe=='urban' :\r\n",
        "        Cm=0\r\n",
        "    elif tipe=='suburban' :\r\n",
        "        Cm= -2*((np.log10((frek/28)**2))-5.4)\r\n",
        "    elif tipe=='open' :\r\n",
        "        Cm= -4.78*(np.log10(frek))+18.33*(np.log10(frek))-40.94\r\n",
        "    else :\r\n",
        "        Cm='tipe salah'\r\n",
        "    \r\n",
        "    ahr = (1.1*np.log10(frek)-0.7)*hr-(1.56*np.log10(frek)-1.8)\r\n",
        "    Lp = Ca+(Cb*np.log10(frek))-(13.83*np.log(ht))-ahr+((44.9-6.55*np.log10(ht))*np.log10(d))-Cm\r\n",
        "    \r\n",
        "    return Lp"
      ],
      "execution_count": 2,
      "outputs": []
    },
    {
      "cell_type": "code",
      "metadata": {
        "id": "wHEKT-baGezT"
      },
      "source": [
        "f=1800 #MHz\r\n",
        "loc='urban'\r\n",
        "tower=80 #m\r\n",
        "user=1.5 #m\r\n",
        "dmin=200 #m\r\n",
        "dmax=700 #m\r\n",
        "N=200 #titik\r\n",
        "d=np.random.randint(dmin,dmax,N)"
      ],
      "execution_count": 3,
      "outputs": []
    },
    {
      "cell_type": "code",
      "metadata": {
        "colab": {
          "base_uri": "https://localhost:8080/"
        },
        "id": "BqlP4UmgGkJy",
        "outputId": "cf971e4a-68d2-4778-b805-c8a0779cdb82"
      },
      "source": [
        "print(d)"
      ],
      "execution_count": 4,
      "outputs": [
        {
          "output_type": "stream",
          "text": [
            "[473 373 577 403 447 304 596 536 394 642 642 319 499 630 242 304 606 695\n",
            " 518 326 205 466 357 367 436 435 627 640 567 230 667 211 637 266 645 374\n",
            " 419 573 462 518 397 614 591 385 612 578 314 653 434 311 354 602 516 282\n",
            " 335 450 394 569 297 677 555 232 368 310 607 456 436 574 432 321 519 634\n",
            " 485 228 534 476 555 309 432 578 219 466 469 465 378 484 520 493 672 539\n",
            " 215 462 310 605 591 231 681 325 635 687 247 561 560 433 282 233 202 550\n",
            " 442 566 603 353 673 632 639 348 314 340 417 612 352 440 588 403 411 316\n",
            " 365 320 659 347 662 362 581 545 434 234 694 696 610 533 587 573 607 228\n",
            " 314 370 329 424 646 355 517 651 671 516 656 583 696 316 577 537 353 392\n",
            " 353 245 288 248 515 654 552 545 608 297 617 217 436 693 647 230 200 548\n",
            " 697 324 380 301 641 653 554 613 381 239 438 413 677 305 508 452 361 363\n",
            " 244 513]\n"
          ],
          "name": "stdout"
        }
      ]
    },
    {
      "cell_type": "code",
      "metadata": {
        "id": "L3qRSyeqGrZ0"
      },
      "source": [
        "LpUrban=cos(f,loc,tower,user,d)"
      ],
      "execution_count": 5,
      "outputs": []
    },
    {
      "cell_type": "code",
      "metadata": {
        "colab": {
          "base_uri": "https://localhost:8080/"
        },
        "id": "BU-UmoX0Gvbm",
        "outputId": "1409008d-538d-4f17-c378-a6174041b1c3"
      },
      "source": [
        "print(LpUrban)"
      ],
      "execution_count": 6,
      "outputs": [
        {
          "output_type": "stream",
          "text": [
            "[181.76581574 178.42009529 184.56541147 179.50978046 180.96942503\n",
            " 175.53874529 185.02178304 183.52714159 179.19163359 186.06906151\n",
            " 186.06906151 176.2171864  182.51958027 185.80327556 172.32581571\n",
            " 175.53874529 185.25616844 187.18643176 183.04597095 176.5229462\n",
            " 169.98851806 181.5557934  177.80251748 178.19166482 180.61844739\n",
            " 180.5861024  185.73603802 186.02511066 184.31914231 171.60941197\n",
            " 186.60718033 170.39488001 185.95892618 173.65779037 186.13473173\n",
            " 178.45780947 180.05821908 184.46741986 181.43435956 183.04597095\n",
            " 179.29848294 185.44090863 184.90311142 178.8661348  185.39495023\n",
            " 184.58980323 175.99465037 186.30837014 180.55368296 175.85942145\n",
            " 177.68364557 185.16288176 182.99147866 174.48057824 176.90655882\n",
            " 181.06364771 179.19163359 184.36874179 175.21059846 186.81680082\n",
            " 184.01782092 171.7313715  178.22999474 175.81405511 185.2793939\n",
            " 181.25022312 180.61844739 184.49198175 180.48861939 176.30522567\n",
            " 183.07313824 185.89242926 182.11872533 171.48638728 183.4744827\n",
            " 181.85487549 184.01782092 175.76854219 180.48861939 184.58980323\n",
            " 170.91907957 181.5557934  181.64618668 181.52553294 178.60766448\n",
            " 182.08965155 183.10025324 182.34918016 186.7123805  183.60576266\n",
            " 170.65941807 181.43435956 175.81405511 185.23290462 184.90311142\n",
            " 171.67052372 186.89978332 176.47967047 185.91462979 187.0233476\n",
            " 172.61388787 184.1692873  184.14415574 180.52118874 174.48057824\n",
            " 171.79195756 169.78085477 183.89034279 180.81097299 184.29427692\n",
            " 185.18626141 177.64379763 186.73332658 185.84792294 186.0030837\n",
            " 177.44284933 175.99465037 177.11524764 179.99082068 185.39495023\n",
            " 177.60383665 180.74708972 184.83142558 179.50978046 179.78666874\n",
            " 176.0840871  178.11469065 176.26127482 186.43720858 177.40231336\n",
            " 186.50118857 177.99843493 184.66272611 183.76170046 180.55368296\n",
            " 171.85228415 187.1661492  187.20668516 185.34884139 183.44807925\n",
            " 184.807449   184.46741986 185.2793939  171.48638728 175.99465037\n",
            " 178.30634309 176.65198134 180.22531757 186.15655395 177.72338111\n",
            " 183.01875116 186.26516079 186.69140322 182.99147866 186.37293666\n",
            " 184.71113247 187.20668516 176.0840871  184.56541147 183.5533974\n",
            " 177.64379763 179.11994775 177.64379763 172.49936498 174.77714157\n",
            " 172.67080204 182.96415327 186.32992522 183.94147257 183.76170046\n",
            " 185.30258113 175.21059846 185.5095663  170.78984712 180.61844739\n",
            " 187.14583739 186.17834241 171.60941197 169.64069205 183.83902675\n",
            " 187.22690949 176.43626138 178.68199836 175.39904592 186.04710322\n",
            " 186.30837014 183.99241742 185.41794817 178.71901871 172.15010153\n",
            " 180.68291541 179.85504867 186.81680082 175.58500555 182.77137672\n",
            " 181.12611449 177.95946883 178.03729354 172.44175248 182.90934294]\n"
          ],
          "name": "stdout"
        }
      ]
    },
    {
      "cell_type": "code",
      "metadata": {
        "id": "6Z4K6JGHG0fv"
      },
      "source": [
        "d_sort=d[np.argsort(d)]\r\n",
        "Urban_sort=LpUrban[np.argsort(d)]"
      ],
      "execution_count": 28,
      "outputs": []
    },
    {
      "cell_type": "code",
      "metadata": {
        "id": "CeHjuhsLG6xe"
      },
      "source": [
        "f=1800 #MHz\r\n",
        "loc='suburban'\r\n",
        "tower=80 #m\r\n",
        "user=1.5 #m\r\n",
        "dmin=200 #m\r\n",
        "dmax=700 #m\r\n",
        "N=200 #titik\r\n",
        "a=np.random.randint(dmin,dmax,N)"
      ],
      "execution_count": 8,
      "outputs": []
    },
    {
      "cell_type": "code",
      "metadata": {
        "colab": {
          "base_uri": "https://localhost:8080/"
        },
        "id": "xGqZoNneHIC3",
        "outputId": "27331c48-663f-4df8-b2d4-2c63d128fbbb"
      },
      "source": [
        "print(a)"
      ],
      "execution_count": 9,
      "outputs": [
        {
          "output_type": "stream",
          "text": [
            "[340 476 464 675 448 355 484 250 331 391 555 406 694 609 468 421 435 685\n",
            " 482 443 653 669 505 467 540 479 274 330 263 271 653 205 524 569 583 288\n",
            " 592 349 473 381 342 536 420 554 334 274 477 288 651 234 245 567 417 324\n",
            " 615 554 493 438 653 440 599 210 359 367 227 450 500 380 501 359 513 625\n",
            " 262 606 250 511 508 358 632 393 606 357 569 508 654 683 618 550 694 375\n",
            " 564 397 278 428 599 203 500 539 568 320 331 282 587 479 518 580 521 587\n",
            " 429 240 524 562 689 222 699 429 381 421 461 271 245 276 306 654 553 350\n",
            " 447 341 357 341 224 316 304 600 243 397 451 693 654 406 666 621 248 218\n",
            " 347 264 337 280 426 656 374 524 548 509 619 402 634 296 630 349 309 594\n",
            " 414 568 569 366 214 331 258 205 328 413 476 388 667 617 464 433 419 222\n",
            " 509 575 331 529 281 410 460 213 413 692 366 562 282 265 600 436 251 649\n",
            " 242 340]\n"
          ],
          "name": "stdout"
        }
      ]
    },
    {
      "cell_type": "code",
      "metadata": {
        "id": "PknESYwiHKZS"
      },
      "source": [
        "Lpsuburban=cos(f,loc,tower,user,a)"
      ],
      "execution_count": 10,
      "outputs": []
    },
    {
      "cell_type": "code",
      "metadata": {
        "colab": {
          "base_uri": "https://localhost:8080/"
        },
        "id": "1JorfEIXHMxZ",
        "outputId": "7a42514b-480a-4296-9a60-7263ef5d7d7b"
      },
      "source": [
        "print(Lpsuburban)"
      ],
      "execution_count": 11,
      "outputs": [
        {
          "output_type": "stream",
          "text": [
            "[173.54770554 178.28733339 177.92766523 183.20758343 177.43336056\n",
            " 174.155839   178.52210945 169.21640301 173.16981063 175.51642546\n",
            " 180.45027882 176.04671031 183.5986071  181.75818814 178.04857788\n",
            " 176.55775442 177.01856029 183.41473772 178.46378126 177.27526421\n",
            " 182.74082804 183.08181262 179.12040158 178.01844688 180.06433036\n",
            " 178.3758336  170.50764881 173.12718961 169.93047826 170.3525694\n",
            " 182.74082804 166.42097595 179.64065218 180.80119968 181.14359037\n",
            " 171.20959946 181.35938376 173.91572687 178.19827363 175.15147661\n",
            " 173.630323   179.95959949 176.52425562 180.42487532 173.29690536\n",
            " 170.50764881 178.31689528 171.20959946 182.69761869 168.28474204\n",
            " 168.93182288 180.7516002  176.42327858 172.86871928 181.89628962\n",
            " 180.42487532 178.78163805 177.1153733  182.74082804 177.17954762\n",
            " 181.52496696 166.76041979 174.31366965 174.62412271 167.85692755\n",
            " 177.4961056  178.98023885 175.11445625 179.00838319 174.31366965\n",
            " 179.34180083 182.12349192 169.87681634 181.68862633 169.21640301\n",
            " 179.28677639 179.20383462 174.27437747 182.28038084 175.58829417\n",
            " 181.68862633 174.23497538 180.80119968 179.20383462 182.76238311\n",
            " 183.37354986 181.96483592 180.32280069 183.5986071  174.92788084\n",
            " 180.67687198 175.73094083 170.71180075 176.79004158 181.52496696\n",
            " 166.28287448 178.98023885 180.03822055 180.77642177 172.69373271\n",
            " 173.16981063 170.91303614 181.2399069  178.3758336  179.47842884\n",
            " 181.0709183  179.55977404 181.2399069  176.82291496 168.6413747\n",
            " 179.64065218 180.626832   183.49675389 167.54318991 183.69972912\n",
            " 176.82291496 175.15147661 176.55775442 177.83629472 170.3525694\n",
            " 168.93182288 170.61009462 172.06357228 182.76238311 180.39942592\n",
            " 173.95603087 177.40188292 173.58907484 174.23497538 173.58907484\n",
            " 167.66952473 172.516545   171.97120318 181.54846361 168.81636127\n",
            " 175.73094083 177.52737362 183.57829529 182.76238311 176.04671031\n",
            " 183.01850358 182.03305028 169.10325994 167.28706944 173.83477126\n",
            " 169.98393654 173.42286362 170.8127778  176.72406376 182.80539456\n",
            " 174.89026737 179.64065218 180.27148464 179.23153618 181.98761076\n",
            " 175.90724148 182.32488715 171.59554792 182.23573345 173.91572687\n",
            " 172.20100008 181.40689219 176.32157245 180.77642177 180.80119968\n",
            " 174.5856882  167.02620574 173.16981063 169.66010072 166.42097595\n",
            " 173.04155872 176.28750656 178.28733339 175.40793015 183.03963822\n",
            " 181.94202419 177.92766523 176.95364664 176.49067697 167.54318991\n",
            " 179.23153618 180.94895877 173.16981063 179.77442562 170.86299616\n",
            " 176.18481179 177.8057057  166.96022792 176.28750656 183.55795415\n",
            " 174.5856882  180.626832   170.91303614 170.0371927  181.54846361\n",
            " 177.05090528 169.27263557 182.65427638 168.75827361 173.54770554]\n"
          ],
          "name": "stdout"
        }
      ]
    },
    {
      "cell_type": "code",
      "metadata": {
        "id": "cq7XmYh_HPBp"
      },
      "source": [
        "a_sort=a[np.argsort(a)]\r\n",
        "suburban_sort=Lpsuburban[np.argsort(a)]"
      ],
      "execution_count": 12,
      "outputs": []
    },
    {
      "cell_type": "code",
      "metadata": {
        "id": "Uyh50XqsHSQr"
      },
      "source": [
        "f=1800 #MHz\r\n",
        "loc='open'\r\n",
        "tower=80 #m\r\n",
        "user=1.5 #m\r\n",
        "dmin=200 #m\r\n",
        "dmax=700 #m\r\n",
        "N=200 #titik\r\n",
        "b=np.random.randint(dmin,dmax,N)"
      ],
      "execution_count": 13,
      "outputs": []
    },
    {
      "cell_type": "code",
      "metadata": {
        "colab": {
          "base_uri": "https://localhost:8080/"
        },
        "id": "6akQSR7cHX20",
        "outputId": "b0acabad-45a7-4bc9-ee15-bb094ee6b539"
      },
      "source": [
        "print(b)"
      ],
      "execution_count": 14,
      "outputs": [
        {
          "output_type": "stream",
          "text": [
            "[522 525 503 619 684 609 593 347 569 554 594 405 649 652 281 458 678 597\n",
            " 487 361 243 677 684 638 263 531 351 588 288 441 244 416 206 616 394 480\n",
            " 658 557 240 254 572 417 514 290 414 331 224 430 333 323 442 588 454 328\n",
            " 631 493 276 342 255 375 318 533 416 341 624 607 231 315 643 532 505 314\n",
            " 618 237 532 212 469 366 421 212 419 225 333 530 430 454 651 601 332 522\n",
            " 356 284 614 206 316 520 439 619 595 363 302 485 255 408 664 573 601 274\n",
            " 286 487 580 399 637 473 480 693 322 697 630 669 349 668 691 697 445 320\n",
            " 530 290 676 510 292 480 390 320 389 545 640 548 270 204 639 643 428 270\n",
            " 292 680 674 464 439 428 359 593 262 370 692 282 440 668 244 590 619 269\n",
            " 309 461 202 293 558 381 265 593 296 271 621 534 366 650 282 616 346 400\n",
            " 400 350 245 614 642 368 221 605 615 563 305 517 475 548 269 570 653 453\n",
            " 561 329]\n"
          ],
          "name": "stdout"
        }
      ]
    },
    {
      "cell_type": "code",
      "metadata": {
        "id": "YGntpocMHZrK"
      },
      "source": [
        "Lpopen=cos(f,loc,tower,user,b)"
      ],
      "execution_count": 15,
      "outputs": []
    },
    {
      "cell_type": "code",
      "metadata": {
        "colab": {
          "base_uri": "https://localhost:8080/"
        },
        "id": "T2NAniHlHb9L",
        "outputId": "452f4d39-7f04-4247-d0d0-566fb6464380"
      },
      "source": [
        "print(Lpopen)"
      ],
      "execution_count": 16,
      "outputs": [
        {
          "output_type": "stream",
          "text": [
            "[179.98538471 180.06610836 179.4631034  182.38621042 183.7927585\n",
            " 182.1567878  181.78175766 174.23337092 181.19979934 180.82347498\n",
            " 181.80549185 176.41057201 183.05287604 183.11783959 171.26159583\n",
            " 178.14292732 183.66864988 181.87645542 179.00775102 174.79052638\n",
            " 169.21496093 183.64785838 183.7927585  182.81207979 170.32907792\n",
            " 180.22618096 174.39481953 181.66248314 171.60819912 177.61012513\n",
            " 169.27281004 176.78805773 166.88812191 182.31777513 176.02269115\n",
            " 178.8038102  183.24687473 180.89954845 169.03997436 169.83859844\n",
            " 181.27387263 176.82187824 179.76783232 171.70568212 176.72017211\n",
            " 173.56841029 168.06812439 177.25431146 173.6532674  173.22377567\n",
            " 177.64203055 181.66248314 178.01936304 173.44015838 182.65667449\n",
            " 179.18023772 171.00869428 174.02892266 169.89394719 175.3264805\n",
            " 173.00401711 180.2791368  176.78805773 173.9876745  182.49953555\n",
            " 182.11045145 168.50158128 172.87049728 182.92204318 180.25268377\n",
            " 179.51900124 172.82570793 182.36343558 168.86278665 180.25268377\n",
            " 167.29253929 178.47724423 174.98428787 176.95635408 167.29253929\n",
            " 176.88927663 168.13086942 173.6532674  180.19962819 177.25431146\n",
            " 178.01936304 183.09621835 181.97052079 173.61090274 179.98538471\n",
            " 174.59406243 171.41118559 182.27196619 166.88812191 172.91514466\n",
            " 179.9313108  177.54609666 182.38621042 181.82918612 174.8683511\n",
            " 172.27682404 178.94978288 169.89394719 176.51452995 183.37473858\n",
            " 181.29847742 181.97052079 170.90624847 171.51003679 179.00775102\n",
            " 181.46951796 176.20032576 182.78998373 178.59687329 178.8038102\n",
            " 183.97689495 173.18009738 184.05796704 182.63433311 183.48041228\n",
            " 174.31432653 183.45934086 183.93618325 184.05796704 177.7373155\n",
            " 173.09233237 180.19962819 171.70568212 183.62703615 179.65778303\n",
            " 171.80249513 178.8038102  175.87895279 173.09233237 175.84278784\n",
            " 180.59275801 182.85616821 180.67008431 170.69909418 166.75069412\n",
            " 182.83414125 182.92204318 177.18864124 170.69909418 171.80249513\n",
            " 183.71014103 183.58529912 178.32626489 177.54609666 177.18864124\n",
            " 174.71226931 181.78175766 170.275416   175.13740065 183.95655381\n",
            " 171.3116358  177.57814728 183.45934086 169.27281004 181.71031421\n",
            " 182.38621042 170.64682608 172.59959974 178.23489438 166.61191233\n",
            " 171.85065326 180.92481525 175.55007627 170.43579236 181.78175766\n",
            " 171.99414758 170.75116906 182.43164994 180.30554025 174.98428787\n",
            " 183.07456387 171.3116358  182.31777513 174.19271797 176.23558544\n",
            " 176.23558544 174.35463053 169.33042254 182.27196619 182.90011907\n",
            " 175.06105229 167.87819471 182.06396218 182.29488928 181.05047387\n",
            " 172.41606311 179.84980871 178.65630898 180.67008431 170.64682608\n",
            " 181.22453374 183.1394277  177.98830187 181.00034486 173.48303889]\n"
          ],
          "name": "stdout"
        }
      ]
    },
    {
      "cell_type": "code",
      "metadata": {
        "id": "QZEgudVUHhLy"
      },
      "source": [
        "b_sort=b[np.argsort(b)]\r\n",
        "open_sort=Lpopen[np.argsort(b)]"
      ],
      "execution_count": 17,
      "outputs": []
    },
    {
      "cell_type": "code",
      "metadata": {
        "colab": {
          "base_uri": "https://localhost:8080/",
          "height": 295
        },
        "id": "3q4sWuniHk44",
        "outputId": "29b4f689-ab75-4813-cb62-3b223cd10045"
      },
      "source": [
        "plt.figure()\r\n",
        "plt.plot(d_sort,Urban_sort, label='Urban')\r\n",
        "plt.plot(b_sort,open_sort, label='Open')\r\n",
        "plt.plot(a_sort,suburban_sort, label='Suburban')\r\n",
        "plt.legend()\r\n",
        "plt.title('Frekuensi 1800 MHz')\r\n",
        "plt.xlabel('Jarak (m)')\r\n",
        "plt.ylabel('Path Loss (dB)')\r\n",
        "plt.show()"
      ],
      "execution_count": 48,
      "outputs": [
        {
          "output_type": "display_data",
          "data": {
            "image/png": "[encoded data removed]",
            "text/plain": [
              "<Figure size 432x288 with 1 Axes>"
            ]
          },
          "metadata": {
            "tags": [],
            "needs_background": "light"
          }
        }
      ]
    },
    {
      "cell_type": "code",
      "metadata": {
        "id": "LVy0Uc1pHvjv"
      },
      "source": [
        "f=1800 #MHz\r\n",
        "loc='urban'\r\n",
        "tower=80 #m\r\n",
        "user=1.5 #m\r\n",
        "dmin=200 #m\r\n",
        "dmax=700 #m\r\n",
        "N=200 #titik\r\n",
        "k=np.random.randint(dmin,dmax,N)"
      ],
      "execution_count": 49,
      "outputs": []
    },
    {
      "cell_type": "code",
      "metadata": {
        "colab": {
          "base_uri": "https://localhost:8080/"
        },
        "id": "dB6SamkNJiN3",
        "outputId": "d822552e-7328-45e9-edd2-c5cc2b131c65"
      },
      "source": [
        "print(k)"
      ],
      "execution_count": 50,
      "outputs": [
        {
          "output_type": "stream",
          "text": [
            "[625 294 456 400 403 254 496 471 342 542 276 267 419 214 360 483 615 624\n",
            " 288 648 413 306 588 396 271 352 497 687 526 486 413 569 356 419 353 361\n",
            " 364 624 660 659 651 673 423 673 538 533 593 416 680 596 241 561 466 208\n",
            " 493 395 428 522 559 239 303 425 271 694 368 466 681 263 412 343 329 386\n",
            " 211 458 617 596 433 595 329 487 607 280 589 306 543 376 512 200 326 269\n",
            " 264 602 675 209 275 415 272 491 635 458 695 452 660 227 364 615 353 579\n",
            " 590 528 231 686 577 681 434 269 640 364 261 265 205 406 672 354 477 354\n",
            " 472 438 482 290 305 536 604 453 683 292 273 501 350 248 207 642 283 648\n",
            " 343 496 217 647 246 213 528 323 564 582 342 483 417 567 386 243 586 247\n",
            " 367 512 268 461 335 422 219 313 453 677 497 648 307 543 250 476 441 597\n",
            " 555 449 574 292 370 224 516 304 372 299 491 344 302 475 683 327 454 235\n",
            " 516 685]\n"
          ],
          "name": "stdout"
        }
      ]
    },
    {
      "cell_type": "code",
      "metadata": {
        "id": "e2KATp7xJkPA"
      },
      "source": [
        "LpUrban1=cos(f,loc,tower,user,k)"
      ],
      "execution_count": 51,
      "outputs": []
    },
    {
      "cell_type": "code",
      "metadata": {
        "colab": {
          "base_uri": "https://localhost:8080/"
        },
        "id": "xKKRErmyJnML",
        "outputId": "c5c05afc-91b4-48a1-8cca-173c6adb1414"
      },
      "source": [
        "print(LpUrban1)"
      ],
      "execution_count": 52,
      "outputs": [
        {
          "output_type": "stream",
          "text": [
            "[185.69103403 175.06758974 181.25022312 179.40452789 179.50978046\n",
            " 173.00754089 182.43463788 181.7061282  177.19786511 183.68394734\n",
            " 174.17763673 173.71064686 180.05821908 170.59374784 177.92039464\n",
            " 182.06051765 185.46383172 185.668478   174.77714157 186.20009722\n",
            " 179.85504867 175.63111439 184.83142558 179.26295647 173.9201115\n",
            " 177.60383665 182.46300896 187.0233476  183.26185621 182.14773921\n",
            " 179.85504867 184.36874179 177.76300487 180.05821908 177.64379763\n",
            " 177.95946883 178.07604525 185.668478   186.45856755 186.43720858\n",
            " 186.26516079 186.73332658 180.19205607 186.73332658 183.57960436\n",
            " 183.44807925 184.95070011 179.95700017 186.87908348 185.02178304\n",
            " 172.26748753 184.1692873  181.5557934  170.19316433 182.34918016\n",
            " 179.22734017 180.35758368 183.15432715 184.11897926 172.15010153\n",
            " 175.4923326  180.25850071 173.9201115  187.1661492  178.22999474\n",
            " 181.5557934  186.89978332 173.49802037 179.8209002  177.23899284\n",
            " 176.65198134 178.902675   170.39488001 181.31186977 185.5095663\n",
            " 185.02178304 180.52118874 184.99812856 176.65198134 182.17669346\n",
            " 185.2793939  174.3803199  184.85536142 175.63111439 183.70991276\n",
            " 178.53293625 182.88185758 169.64069205 176.5229462  173.81576852\n",
            " 173.55147864 185.16288176 186.77512553 170.26072435 174.12650695\n",
            " 179.92309826 173.97199457 182.29191895 185.91462979 181.31186977\n",
            " 187.18643176 181.12611449 186.45856755 171.42446965 178.07604525\n",
            " 185.46383172 177.64379763 184.61415283 184.87925665 183.31531448\n",
            " 171.67052372 187.00282867 184.56541147 186.89978332 180.55368296\n",
            " 173.81576852 186.02511066 178.07604525 173.39049132 173.6047348\n",
            " 169.98851806 179.61425242 186.7123805  177.68364557 181.88443739\n",
            " 177.68364557 181.73600358 180.68291541 182.03132336 174.87462457\n",
            " 175.58500555 183.52714159 185.20960232 181.15724431 186.94109196\n",
            " 174.97143758 174.02368724 182.5759253  177.52357297 172.67080204\n",
            " 170.12527872 186.06906151 174.53044108 186.20009722 177.23899284\n",
            " 182.43463788 170.78984712 186.17834241 172.55674281 170.52777003\n",
            " 183.31531448 176.39271811 184.24441408 184.68695008 177.19786511\n",
            " 182.06051765 179.99082068 184.31914231 178.902675   172.38390337\n",
            " 184.78343154 172.61388787 178.19166482 182.88185758 173.76330575\n",
            " 181.40383683 176.90655882 180.15871585 170.91907957 175.94971816\n",
            " 181.15724431 186.81680082 182.46300896 186.20009722 175.67707279\n",
            " 183.70991276 172.78394512 181.85487549 180.77906757 185.04539786\n",
            " 184.01782092 181.03231012 184.49198175 174.97143758 178.30634309\n",
            " 171.23706683 182.99147866 175.53874529 178.38227987 175.30513732\n",
            " 182.29191895 177.28000084 175.44576648 181.82525143 186.94109196\n",
            " 176.56608938 181.18830549 171.91235348 182.99147866 186.98227982]\n"
          ],
          "name": "stdout"
        }
      ]
    },
    {
      "cell_type": "code",
      "metadata": {
        "id": "gTxutS4GJpSx"
      },
      "source": [
        "k_sort=k[np.argsort(k)]\r\n",
        "Urban_sort1=LpUrban1[np.argsort(k)]"
      ],
      "execution_count": 53,
      "outputs": []
    },
    {
      "cell_type": "code",
      "metadata": {
        "id": "RE_zSBTDJsp5"
      },
      "source": [
        "f=900 #MHz\r\n",
        "loc='urban'\r\n",
        "tower=80 #m\r\n",
        "user=1.5 #m\r\n",
        "dmin=200 #m\r\n",
        "dmax=700 #m\r\n",
        "N=200 #titik\r\n",
        "l=np.random.randint(dmin,dmax,N)"
      ],
      "execution_count": 54,
      "outputs": []
    },
    {
      "cell_type": "code",
      "metadata": {
        "colab": {
          "base_uri": "https://localhost:8080/"
        },
        "id": "mtz19fFtJ1u8",
        "outputId": "6c10c7e4-3718-4b5d-a05f-853f1b7f1fd0"
      },
      "source": [
        "print(l)"
      ],
      "execution_count": 55,
      "outputs": [
        {
          "output_type": "stream",
          "text": [
            "[416 447 377 329 546 610 574 567 307 250 215 454 677 652 449 451 586 448\n",
            " 661 433 476 444 431 638 555 635 552 220 462 654 518 410 450 365 401 235\n",
            " 233 320 586 633 302 298 434 408 242 449 436 476 498 450 498 400 315 362\n",
            " 267 511 616 667 600 392 526 620 628 559 620 587 294 665 492 601 207 536\n",
            " 465 350 614 373 439 579 367 263 317 338 343 511 648 586 643 280 333 499\n",
            " 696 687 419 442 373 501 568 268 517 631 635 201 522 259 361 408 315 336\n",
            " 344 330 600 519 397 229 230 251 414 400 581 646 519 679 690 260 359 224\n",
            " 499 510 208 502 257 297 358 553 595 645 497 362 293 643 664 242 263 374\n",
            " 446 287 362 618 654 667 340 429 427 310 569 424 634 396 622 459 224 204\n",
            " 429 642 577 503 612 369 659 418 630 665 495 369 642 481 578 452 420 313\n",
            " 505 419 349 442 247 221 308 399 565 446 413 238 527 557 601 307 504 545\n",
            " 459 458]\n"
          ],
          "name": "stdout"
        }
      ]
    },
    {
      "cell_type": "code",
      "metadata": {
        "id": "dXPwkcPBJ3Zt"
      },
      "source": [
        "LpUrban2=cos(f,loc,tower,user,l)"
      ],
      "execution_count": 56,
      "outputs": []
    },
    {
      "cell_type": "code",
      "metadata": {
        "colab": {
          "base_uri": "https://localhost:8080/"
        },
        "id": "9N1u82DlJ59V",
        "outputId": "c93cbf7c-28ac-4090-d49a-c1301efd4aa1"
      },
      "source": [
        "print(LpUrban2)"
      ],
      "execution_count": 57,
      "outputs": [
        {
          "output_type": "stream",
          "text": [
            "[170.16333899 171.17576385 168.77668874 166.85832016 173.99386191\n",
            " 175.55518021 174.69832057 174.52548113 165.88341161 162.99028394\n",
            " 160.86575689 171.39464431 177.02313965 176.49312086 171.23864895\n",
            " 171.30125455 174.98977036 171.20724149 176.686233   170.72752757\n",
            " 172.06121432 171.08090668 170.66231339 176.18736106 174.22415975\n",
            " 176.12096862 174.14781139 161.18959271 171.64069839 176.53626404\n",
            " 173.25230977 169.95869272 171.26998653 168.32102947 169.64603836\n",
            " 162.11869231 161.99829638 166.46761364 174.98977036 176.0765325\n",
            " 165.65210531 165.46428602 170.76002179 169.88981122 162.53215454\n",
            " 171.23864895 170.82478621 172.06121432 172.69766184 171.26998653\n",
            " 172.69766184 169.61086671 166.24577854 168.20477376 163.91698568\n",
            " 173.06065732 175.6930564  176.81351915 175.32234454 169.32628658\n",
            " 173.46819503 175.78422977 175.96482504 174.32531808 175.78422977\n",
            " 175.01378782 165.27392857 176.7712181  172.52691748 175.34580206\n",
            " 160.33161754 173.73348041 171.73187176 167.72991179 175.64724745\n",
            " 168.62643412 170.92137793 174.82049165 168.39800364 163.70435919\n",
            " 166.33493224 167.23848158 167.44533166 173.06065732 176.40643605\n",
            " 174.98977036 176.29732444 164.58665872 167.02854867 172.7259191\n",
            " 177.41302399 177.22968642 170.2645579  171.01731182 168.62643412\n",
            " 172.78226412 174.5503027  163.96964458 173.22508998 176.03195576\n",
            " 176.12096862 159.91728657 173.36066598 163.48847393 168.16580765\n",
            " 169.88981122 166.24577854 167.15488348 167.48633966 166.90107053\n",
            " 175.32234454 173.27947706 169.50482176 161.75437275 161.81575079\n",
            " 163.0465165  170.09545338 169.61086671 174.86906493 176.36289277\n",
            " 173.27947706 177.064692   177.29106446 163.54275622 168.08755058\n",
            " 161.44340565 172.7259191  173.03306429 160.39950315 172.81035234\n",
            " 163.37927775 165.41693728 168.0482584  174.17330685 175.20446739\n",
            " 176.34107056 172.66934778 168.20477376 165.22593453 176.29732444\n",
            " 176.75001985 162.53215454 163.70435919 168.6641483  171.14421572\n",
            " 164.93448473 168.20477376 175.73871685 176.53626404 176.81351915\n",
            " 167.32158646 170.59679589 170.53097223 166.02039393 174.57508061\n",
            " 170.43165639 176.09876808 169.46929529 175.82959612 171.54893104\n",
            " 161.44340565 160.12597538 170.59679589 176.27540033 174.7717503\n",
            " 172.83838466 175.60128905 168.47455947 176.6435474  170.23089901\n",
            " 176.00961438 176.7712181  172.61254836 168.47455947 176.27540033\n",
            " 172.20840727 174.79614206 171.33245332 170.29813655 166.15605698\n",
            " 172.8942825  170.2645579  167.6896078  171.01731182 162.8202267\n",
            " 161.25347598 165.92922056 169.57560702 174.47570639 171.14421572\n",
            " 170.06138749 162.29737848 173.49494953 174.27482972 175.34580206\n",
            " 165.88341161 172.86636131 173.96803928 171.54893104 171.51820859]\n"
          ],
          "name": "stdout"
        }
      ]
    },
    {
      "cell_type": "code",
      "metadata": {
        "id": "JMteRszFJ7sF"
      },
      "source": [
        "l_sort=l[np.argsort(l)]\r\n",
        "Urban_sort2=LpUrban2[np.argsort(l)]"
      ],
      "execution_count": 58,
      "outputs": []
    },
    {
      "cell_type": "code",
      "metadata": {
        "id": "STQUaMLcJ-d7"
      },
      "source": [
        "f=700 #MHz\r\n",
        "loc='urban'\r\n",
        "tower=80 #m\r\n",
        "user=1.5 #m\r\n",
        "dmin=200 #m\r\n",
        "dmax=700 #m\r\n",
        "N=200 #titik\r\n",
        "m=np.random.randint(dmin,dmax,N)"
      ],
      "execution_count": 59,
      "outputs": []
    },
    {
      "cell_type": "code",
      "metadata": {
        "colab": {
          "base_uri": "https://localhost:8080/"
        },
        "id": "8OriQ8mfKAjE",
        "outputId": "de795a45-bd4b-4c26-e5d9-15bc64c243d4"
      },
      "source": [
        "print(m)"
      ],
      "execution_count": 60,
      "outputs": [
        {
          "output_type": "stream",
          "text": [
            "[407 389 357 508 697 284 627 547 612 476 589 454 334 666 674 653 356 265\n",
            " 482 697 598 695 569 254 618 374 561 545 615 590 606 260 273 693 449 656\n",
            " 552 344 265 365 641 562 420 337 573 495 524 505 463 549 424 491 362 297\n",
            " 603 439 225 435 693 265 347 231 652 539 366 415 635 218 508 356 380 559\n",
            " 304 430 456 504 285 275 621 613 659 655 415 616 350 212 428 331 608 643\n",
            " 669 243 212 275 654 440 289 524 538 698 365 259 396 206 375 611 580 257\n",
            " 625 237 241 391 332 422 203 587 333 472 578 374 330 524 216 231 477 377\n",
            " 625 406 227 675 648 696 232 696 215 660 493 347 643 287 505 602 509 483\n",
            " 605 374 462 277 491 568 505 269 476 220 308 224 665 427 326 297 579 245\n",
            " 276 592 530 237 509 539 675 600 514 247 492 429 629 546 645 541 409 223\n",
            " 281 414 390 543 326 228 295 600 284 239 296 200 375 696 517 649 247 523\n",
            " 581 492]\n"
          ],
          "name": "stdout"
        }
      ]
    },
    {
      "cell_type": "code",
      "metadata": {
        "id": "nHUkZfTUKEYG"
      },
      "source": [
        "LpUrban3=cos(f,loc,tower,user,m)"
      ],
      "execution_count": 61,
      "outputs": []
    },
    {
      "cell_type": "code",
      "metadata": {
        "colab": {
          "base_uri": "https://localhost:8080/"
        },
        "id": "xj4dU5ZHKHAu",
        "outputId": "da386045-fbdf-410b-eec8-aa1bdc2b7242"
      },
      "source": [
        "print(LpUrban3)"
      ],
      "execution_count": 62,
      "outputs": [
        {
          "output_type": "stream",
          "text": [
            "[167.00984743 166.37267279 165.16345999 170.13231923 174.58785199\n",
            " 161.94107054 173.09698053 171.17424096 172.75589273 169.215818\n",
            " 172.21630393 168.54924799 164.22538997 173.94698819 174.11518407\n",
            " 173.66931265 165.12394737 160.96567731 169.39226587 174.58785199\n",
            " 172.42991566 174.54737427 171.72968429 160.36848339 172.89332053\n",
            " 165.81875198 171.53022981 171.12264296 172.82477423 172.24019916\n",
            " 172.61711095 160.69735991 161.38462975 174.5067799  168.39325263\n",
            " 173.73387917 171.30241507 164.64094334 160.96567731 165.47563315\n",
            " 173.40804573 171.55531661 167.45274023 164.35134823 171.82836237\n",
            " 169.76715204 170.56913679 170.04888619 168.82575881 171.22565064\n",
            " 167.58626007 169.65286146 165.35937744 162.57154096 172.54720392\n",
            " 168.07598161 158.66075437 167.9470449  174.5067799  160.96567731\n",
            " 164.76325587 159.03146623 173.64772454 170.96670516 165.51417282\n",
            " 167.28404076 173.2755723  158.21555405 170.13231923 165.12394737\n",
            " 166.04294086 171.47992176 162.89968779 167.78419641 168.61116562\n",
            " 170.02096499 161.99058285 161.48744946 172.96153489 172.77889068\n",
            " 173.79815109 173.71238986 167.28404076 172.84766008 164.88451548\n",
            " 157.82242424 167.71852619 164.09829524 172.66352363 173.45192813\n",
            " 174.01029723 159.74484588 157.82242424 161.48744946 173.69086772\n",
            " 168.10803223 162.1869099  170.56913679 170.94054687 174.60804732\n",
            " 165.47563315 160.64307761 166.62389897 157.41800686 165.85636545\n",
            " 172.73285718 171.99940291 160.53388143 173.05197653 159.3926716\n",
            " 159.62843003 166.44491007 164.14078769 167.51965835 157.21135909\n",
            " 172.16839151 164.18315235 169.09694609 171.95074574 165.81875198\n",
            " 164.05567422 170.56913679 158.08572606 159.03146623 169.24537989\n",
            " 165.93129243 173.05197653 166.97519492 158.78541216 174.13606804\n",
            " 173.56103973 174.56762767 159.092314   174.56762767 158.02036057\n",
            " 173.81951005 169.71012266 164.76325587 173.45192813 162.08908841\n",
            " 170.04888619 172.52382426 170.16002079 169.42146015 172.59384713\n",
            " 165.81875198 168.79530207 161.58952409 169.65286146 171.70490638\n",
            " 170.04888619 161.17671103 169.215818   158.34419639 163.08382424\n",
            " 158.59800934 173.92582179 167.68557591 163.8838887  162.57154096\n",
            " 171.97509533 159.86030749 161.53857923 172.28786837 170.72951314\n",
            " 159.3926716  170.16002079 170.96670516 174.13606804 172.47694822\n",
            " 170.29771727 159.97483038 169.68152116 167.75139957 173.14184119\n",
            " 171.14846559 173.49567424 171.01887647 167.07889776 158.53498356\n",
            " 161.79148078 167.25005706 166.40883774 171.07085527 163.8838887\n",
            " 158.84732978 162.47636332 172.47694822 161.94107054 159.51104404\n",
            " 162.52403253 157.00163455 165.85636545 174.56762767 170.37969366\n",
            " 173.58276099 159.97483038 170.54222897 172.02366862 169.68152116]\n"
          ],
          "name": "stdout"
        }
      ]
    },
    {
      "cell_type": "code",
      "metadata": {
        "id": "s-rH4R9DKJc4"
      },
      "source": [
        "m_sort=m[np.argsort(m)]\r\n",
        "Urban_sort3=LpUrban3[np.argsort(m)]"
      ],
      "execution_count": 63,
      "outputs": []
    },
    {
      "cell_type": "code",
      "metadata": {
        "colab": {
          "base_uri": "https://localhost:8080/",
          "height": 295
        },
        "id": "z5yxeo_MKNgd",
        "outputId": "31432463-b6af-4c4e-a4b7-20c72e6e9058"
      },
      "source": [
        "plt.figure()\r\n",
        "plt.plot(k_sort,Urban_sort1, label='700 Mhz')\r\n",
        "plt.plot(l_sort,Urban_sort2, label='900 Mhz')\r\n",
        "plt.plot(m_sort,Urban_sort3, label='1800 Mhz')\r\n",
        "plt.legend()\r\n",
        "plt.title('Model Urban')\r\n",
        "plt.xlabel('Jarak (m)')\r\n",
        "plt.ylabel('Path Loss (dB)')\r\n",
        "plt.show()"
      ],
      "execution_count": 64,
      "outputs": [
        {
          "output_type": "display_data",
          "data": {
            "image/png": "[encoded data removed]",
            "text/plain": [
              "<Figure size 432x288 with 1 Axes>"
            ]
          },
          "metadata": {
            "tags": [],
            "needs_background": "light"
          }
        }
      ]
    },
    {
      "cell_type": "code",
      "metadata": {
        "id": "IzfRdWHQKTVg"
      },
      "source": [
        ""
      ],
      "execution_count": null,
      "outputs": []
    }
  ]
}